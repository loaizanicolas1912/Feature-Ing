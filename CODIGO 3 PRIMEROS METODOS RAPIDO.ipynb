{
 "cells": [
  {
   "cell_type": "code",
   "execution_count": null,
   "metadata": {},
   "outputs": [],
   "source": [
    "#Porcentil\n",
    "\n",
    "Max_limite, Min_limite = df.columna.quantile([0.001,0.99])\n",
    "Max_limite, Min_limite\n",
    "\n",
    "df2 = df[(df.columna>Min_limite) & (df.columna<Max_limite)]\n",
    "df2\n",
    "\n",
    "\n",
    "#Estandar de 4\n",
    "\n",
    "Max_limite = df.columna.mean() + 4*df.columna.std()\n",
    "Min_limite = df.columna.mean() - 4*df.columna.std()\n",
    "\n",
    "df2 = df[(df.columna>Min_limite) & (df.columna<Max_limite)]\n",
    "df2\n",
    "\n",
    "\n",
    "#Z-core con 4 \n",
    "\n",
    "df[\"Zscore\"]= ((df.columna-df.columna.mean())/df.columna.std())\n",
    "df\n",
    "\n",
    "df2 = df[(df.Zscore>-4) & (df.Zscore<4)]\n",
    "df2\n",
    "\n",
    "#IQR\n",
    "Q3 = df.columna.quantile(0.25)\n",
    "Q1 = df.columna.quantile(0.75)\n",
    "IQR = Q3-Q1\n",
    "\n",
    "limite_inferior= (Q1 - (1.5*IQR))\n",
    "limite_superior= (Q3 + (1.5*IQR))\n",
    "\n",
    "df2 = df[(df.columna>limite_inferior) & (df.columna<limite_superior)]"
   ]
  }
 ],
 "metadata": {
  "kernelspec": {
   "display_name": "Python 3",
   "language": "python",
   "name": "python3"
  },
  "language_info": {
   "codemirror_mode": {
    "name": "ipython",
    "version": 3
   },
   "file_extension": ".py",
   "mimetype": "text/x-python",
   "name": "python",
   "nbconvert_exporter": "python",
   "pygments_lexer": "ipython3",
   "version": "3.7.6"
  }
 },
 "nbformat": 4,
 "nbformat_minor": 4
}
